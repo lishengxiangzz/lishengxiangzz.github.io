{
 "cells": [
  {
   "cell_type": "markdown",
   "metadata": {},
   "source": [
    "# Notes on Wireless Communication and Signal Processing\n"
   ]
  },
  {
   "cell_type": "markdown",
   "metadata": {},
   "source": [
    "## 1. Wireless channel models:\n"
   ]
  },
  {
   "cell_type": "markdown",
   "metadata": {},
   "source": [
    "### (1) The additive noise channel:\n",
    "$$r(t)=s(t)+n(t).$$\n",
    "When the signal undergoes attenuation in transmission through the channel, the received signal is:\n",
    "$$r(t)=\\alpha s(t)+n(t),$$\n",
    "where $\\alpha$ is the attenuation factor.\n",
    "![additiveChannel.png](figures/notes/wireless/additiveChannel.png \"Additive channel model\") \n",
    "<div align=\"center\"> Fig.1 Additive channel model</div>\n"
   ]
  },
  {
   "cell_type": "markdown",
   "metadata": {},
   "source": [
    "### (2) The Linear Filter Channel:\n",
    "$$r(t)=s(t)\\star c(t)+n(t)=\\int_{-\\infty}^\\infty c(\\tau)s(t-\\tau)d\\tau +n(t),$$\n",
    "where $c(t)$ is the impulse responese of the linear filter and $\\star$ denotes convolution."
   ]
  },
  {
   "cell_type": "markdown",
   "metadata": {},
   "source": [
    "### (3) The Linear Time-Variant Filter Channel\n",
    "Time-variant multipath propagation of signal:\n",
    "$$r(t)=s(t)\\star c(\\tau;t)+n(t)=\\int_{-\\infty}^\\infty c(\\tau;t)s(t-\\tau)d\\tau +n(t),$$\n",
    "where $c(\\tau;t)$ is the time-variant channel impulse response, and $\\tau$ represents the \"age\" (elapsed-time) variable.\n",
    "![Isotropically Radiating Attenna.png](figures/notes/wireless/timeVariantChannel.png \"Linear Time-Variant Filter Channel\")\n",
    "<div align=\"center\">Fig.2 Linear Time-Variant Filter Channel</div>\n",
    "\n",
    "For ionosphere (at frequencies below 30MHz) and mobile cellular radio channels,\n",
    "$$c(\\tau;t)=\\sum_{k=1}^La_k(t)\\delta(\\tau-\\tau_k)$$\n",
    "where $\\{a_k(t)\\}$ represents the possibly time-variant attenuaion factors for the $L$ multipath propagation paths and $\\{\\tau_k\\}$ are the corresponding time delays. Hence,\n",
    "$$r(t)=\\sum_{k=1}^La_k(t)s(t-\\tau_k)+n(t)$$"
   ]
  },
  {
   "cell_type": "markdown",
   "metadata": {},
   "source": [
    "The three mathmatical models described above adequately characterize the great majority of the physical channels encountered in practice."
   ]
  },
  {
   "cell_type": "markdown",
   "metadata": {},
   "source": [
    "## 2. Frequencies\n",
    "- HF: 3-30MHz\n",
    "- VHF: 30-300MHz\n",
    "- UHF: 300-3000MHz\n",
    "- SHF: 3000-30000MHz"
   ]
  },
  {
   "cell_type": "markdown",
   "metadata": {},
   "source": [
    "## 3. Link Budget Analysis in Radio Communication Systems\n",
    "In the design of radio communication systems that transmit over line-of-sight (LoS) microwave channels and satellite channels, the system designer must specify the size of the transmit and receive antennas, the transmited power, and the SNR required to acheive a given level of performance at some desired data rate.\n",
    "![Isotropically Radiating Attenna.png](figures/notes/wireless/isotropicallyRadiatingAttenna.png \"Isotropically Radiating Attenna\")\n",
    "<div align=\"center\">Fig.3 Isotropically Radiating Attenna</div>\n",
    "\n",
    "Let us begin with a transmit antenna that radiates isotropically in the free space at a power level of $P_T$ as shown in Fig.3. The power density at a distance $d$ from the attenna is $P_T\\big/(4\\pi d^2)$$\\text{W/}\\text{m}^2$. If the transmitting antenna has some directivity in a particular direction, the power density in that direction is increased by a fdactor called the antenna gain and denoted by $G_T$. In such case, the power density at distance $d$ is $P_TG_T\\big/(4\\pi d^2)$$\\text{W/}\\text{m}^2$. The product $P_TG_T$ is usually called the effective radiated power (ERP or EIRP), which is basically the radiated power relative to an isotropic antenna, for which $G_T=1$."
   ]
  },
  {
   "cell_type": "markdown",
   "metadata": {},
   "source": [
    "The received power extracted by the antenna may be expressed as\n",
    "$$P_R=\\frac{P_TG_TA_R}{4\\pi d^2},$$\n",
    "where $A_R$ is the effective area of the antenna:\n",
    "$$A_R=\\frac{G_R\\lambda^2}{4\\pi},$$\n",
    "$\\lambda=c/f$, $c$ is the speed of light ($3\\times 10^8$m/s), and $f$ is the frequency of the transmitted sugnal."
   ]
  },
  {
   "cell_type": "markdown",
   "metadata": {},
   "source": [
    "Hence, we obtian an expression for the received power in the form \n",
    "$$P_R=P_TG_TG_RL_sL_a.$$\n",
    "The factor\n",
    "$$L_s=\\left(\\frac{\\lambda}{4\\pi d}\\right)^2=\\left(\\frac{c}{4\\pi df}\\right)^2$$\n",
    "is called the free space path loss, and $L_a$ is other losses, such as atmospheric losses."
   ]
  },
  {
   "cell_type": "markdown",
   "metadata": {},
   "source": [
    "For example, frequency $f=2.4$GHz, distance $d=10$km, then the free space loss is $L_s=120.05$dB.\n",
    "\n",
    "The attenuation curve with respect to the distance is shown in Fig.3.\n",
    "![FreeSpaceLoss.png](figures/notes/wireless/attenuationAmplitude.png \"Free Space Loss in Amplituede.\")\n",
    "<div align=\"center\">Fig.3 Free Space Loss in Amplituede</div>"
   ]
  },
  {
   "cell_type": "code",
   "execution_count": 4,
   "metadata": {},
   "outputs": [
    {
     "name": "stdout",
     "output_type": "stream",
     "text": [
      "0.006366197723675813\n"
     ]
    }
   ],
   "source": [
    "import numpy as np\n",
    "print(1/(np.pi*50))"
   ]
  },
  {
   "cell_type": "code",
   "execution_count": null,
   "metadata": {},
   "outputs": [],
   "source": []
  }
 ],
 "metadata": {
  "kernelspec": {
   "display_name": "Python 3",
   "language": "python",
   "name": "python3"
  },
  "language_info": {
   "codemirror_mode": {
    "name": "ipython",
    "version": 3
   },
   "file_extension": ".py",
   "mimetype": "text/x-python",
   "name": "python",
   "nbconvert_exporter": "python",
   "pygments_lexer": "ipython3",
   "version": "3.7.0"
  }
 },
 "nbformat": 4,
 "nbformat_minor": 2
}
