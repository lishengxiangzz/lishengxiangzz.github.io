{
 "cells": [
  {
   "cell_type": "markdown",
   "metadata": {},
   "source": [
    "# Notes on Wireless Communication and Signal Processing\n"
   ]
  },
  {
   "cell_type": "markdown",
   "metadata": {},
   "source": [
    "## 1. Wireless channel models:\n"
   ]
  },
  {
   "cell_type": "markdown",
   "metadata": {},
   "source": [
    "### (1) The additive noise channel:\n",
    "$$r(t)=s(t)+n(t).$$\n",
    "When the signal undergoes attenuation in transmission through the channel, the received signal is:\n",
    "$$r(t)=\\alpha s(t)+n(t),$$\n",
    "where $\\alpha$ is the attenuation factor.\n",
    "![additiveChannel.png](figures/notes/wireless/additiveChannel.png \"Additive channel model\") \n",
    "<div align=\"center\"> Fig.1 Additive channel model</div>\n"
   ]
  },
  {
   "cell_type": "markdown",
   "metadata": {},
   "source": [
    "### (2) The Linear Filter Channel:\n",
    "$$r(t)=s(t)\\star c(t)+n(t)=\\int_{-\\infty}^\\infty c(\\tau)s(t-\\tau)d\\tau +n(t),$$\n",
    "where $c(t)$ is the impulse responese of the linear filter and $\\star$ denotes convolution."
   ]
  },
  {
   "cell_type": "markdown",
   "metadata": {},
   "source": [
    "### (3) The Linear Time-Variant Filter Channel\n",
    "Time-variant multipath propagation of signal:\n",
    "$$r(t)=s(t)\\star c(\\tau;t)+n(t)=\\int_{-\\infty}^\\infty c(\\tau;t)s(t-\\tau)d\\tau +n(t),$$\n",
    "where $c(\\tau;t)$ is the time-variant channel impulse response, and $\\tau$ represents the \"age\" (elapsed-time) variable.\n",
    "![Isotropically Radiating Attenna.png](figures/notes/wireless/timeVariantChannel.png \"Linear Time-Variant Filter Channel\")\n",
    "<div align=\"center\">Fig.2 Linear Time-Variant Filter Channel</div>\n",
    "\n",
    "For ionosphere (at frequencies below 30MHz) and mobile cellular radio channels,\n",
    "$$c(\\tau;t)=\\sum_{k=1}^La_k(t)\\delta(\\tau-\\tau_k)$$\n",
    "where $\\{a_k(t)\\}$ represents the possibly time-variant attenuaion factors for the $L$ multipath propagation paths and $\\{\\tau_k\\}$ are the corresponding time delays. Hence,\n",
    "$$r(t)=\\sum_{k=1}^La_k(t)s(t-\\tau_k)+n(t)$$"
   ]
  },
  {
   "cell_type": "markdown",
   "metadata": {},
   "source": [
    "The three mathmatical models described above adequately characterize the great majority of the physical channels encountered in practice."
   ]
  },
  {
   "cell_type": "markdown",
   "metadata": {},
   "source": [
    "## 2. Frequencies\n",
    "- HF: 3-30MHz\n",
    "- VHF: 30-300MHz\n",
    "- UHF: 300-3000MHz\n",
    "- SHF: 3000-30000MHz"
   ]
  },
  {
   "cell_type": "markdown",
   "metadata": {},
   "source": [
    "## 3. Link Budget Analysis in Radio Communication Systems\n",
    "In the design of radio communication systems that transmit over line-of-sight (LoS) microwave channels and satellite channels, the system designer must specify the size of the transmit and receive antennas, the transmited power, and the SNR required to acheive a given level of performance at some desired data rate.\n",
    "![Isotropically Radiating Attenna.png](figures/notes/wireless/isotropicallyRadiatingAttenna.png \"Isotropically Radiating Attenna\")\n",
    "<div align=\"center\">Fig.3 Isotropically Radiating Attenna</div>\n",
    "\n",
    "Let us begin with a transmit antenna that radiates isotropically in the free space at a power level of $P_T$ as shown in Fig.3. The power density at a distance $d$ from the attenna is $P_T\\big/(4\\pi d^2)$$\\text{W/}\\text{m}^2$. If the transmitting antenna has some directivity in a particular direction, the power density in that direction is increased by a fdactor called the antenna gain and denoted by $G_T$. In such case, the power density at distance $d$ is $P_TG_T\\big/(4\\pi d^2)$$\\text{W/}\\text{m}^2$. The product $P_TG_T$ is usually called the effective radiated power (ERP or EIRP), which is basically the radiated power relative to an isotropic antenna, for which $G_T=1$."
   ]
  },
  {
   "cell_type": "markdown",
   "metadata": {},
   "source": [
    "The received power extracted by the antenna may be expressed as\n",
    "$$P_R=\\frac{P_TG_TA_R}{4\\pi d^2},$$\n",
    "where $A_R$ is the effective area of the antenna:\n",
    "$$A_R=\\frac{G_R\\lambda^2}{4\\pi},$$\n",
    "$\\lambda=c/f$, $c$ is the speed of light ($3\\times 10^8$m/s), and $f$ is the frequency of the transmitted sugnal."
   ]
  },
  {
   "cell_type": "markdown",
   "metadata": {},
   "source": [
    "Hence, we obtian an expression for the received power in the form \n",
    "$$P_R=P_TG_TG_RL_sL_a.$$\n",
    "The factor\n",
    "$$L_s=\\left(\\frac{\\lambda}{4\\pi d}\\right)^2=\\left(\\frac{c}{4\\pi df}\\right)^2$$\n",
    "is called the free space path loss, and $L_a$ is other losses, such as atmospheric losses."
   ]
  },
  {
   "cell_type": "markdown",
   "metadata": {},
   "source": [
    "For example, frequency $f=2.4$GHz, distance $d=10$km, then the free space loss is $L_s=120.05$dB.\n",
    "\n",
    "The attenuation curve with respect to the distance is shown in Fig.3.\n",
    "![FreeSpaceLoss.png](figures/notes/wireless/attenuationAmplitude.png \"Free Space Loss in Amplituede.\")\n",
    "<div align=\"center\">Fig.3 Free Space Loss in Amplituede</div>\n"
   ]
  },
  {
   "cell_type": "code",
   "execution_count": 31,
   "metadata": {},
   "outputs": [
    {
     "name": "stdout",
     "output_type": "stream",
     "text": [
      "1.0 km: 9.94718394324346e-06\n",
      "1.5 km: 6.631455962162305e-06\n",
      "2.0 km: 4.97359197162173e-06\n",
      "2.5 km: 3.9788735772973834e-06\n",
      "3.0 km: 3.3157279810811526e-06\n",
      "3.5 km: 2.842052555212417e-06\n",
      "4.0 km: 2.486795985810865e-06\n",
      "4.5 km: 2.2104853207207687e-06\n",
      "5.0 km: 1.9894367886486917e-06\n",
      "5.5 km: 1.8085788987715382e-06\n",
      "6.0 km: 1.6578639905405763e-06\n",
      "6.5 km: 1.5303359912682244e-06\n"
     ]
    }
   ],
   "source": [
    "import numpy as np\n",
    "d = np.linspace(1000,6500, 12)\n",
    "attenuation = 3e8/(4*np.pi*d*2400e6)\n",
    "for (d_i, atten_i) in zip(d, attenuation):\n",
    "    print(d_i.astype(int)/1000,'km:', atten_i)"
   ]
  },
  {
   "cell_type": "code",
   "execution_count": 9,
   "metadata": {},
   "outputs": [
    {
     "name": "stdout",
     "output_type": "stream",
     "text": [
      "10000.0 -60.0229985101404\n"
     ]
    },
    {
     "name": "stderr",
     "output_type": "stream",
     "text": [
      "D:\\Anaconda3\\lib\\site-packages\\ipykernel_launcher.py:4: DeprecationWarning: object of type <class 'float'> cannot be safely interpreted as an integer.\n",
      "  after removing the cwd from sys.path.\n",
      "D:\\Anaconda3\\lib\\site-packages\\ipykernel_launcher.py:5: RuntimeWarning: divide by zero encountered in true_divide\n",
      "  \"\"\"\n"
     ]
    },
    {
     "data": {
      "image/png": "[encoded data removed]",
      "text/plain": [
       "<Figure size 288x216 with 1 Axes>"
      ]
     },
     "metadata": {
      "needs_background": "light"
     },
     "output_type": "display_data"
    }
   ],
   "source": [
    "    import matplotlib.pyplot as plt\n",
    "    %matplotlib inline\n",
    "    plt.figure(figsize=(4,3))\n",
    "    d = np.linspace(0, 10e3, 1e3+1)\n",
    "    Ls = 10*np.log10(3e8/(4*np.pi*d*2400e6))\n",
    "    print(np.max(d), np.min(Ls))\n",
    "    plt.plot(d, Ls, color='r',linewidth=1.5)\n",
    "    plt.xlabel('distance (m)')\n",
    "    plt.ylabel('free space attenuation factor in amplitude (dB)')\n",
    "    plt.grid(True)\n",
    "    plt.show()"
   ]
  },
  {
   "cell_type": "code",
   "execution_count": 26,
   "metadata": {},
   "outputs": [
    {
     "name": "stderr",
     "output_type": "stream",
     "text": [
      "D:\\Anaconda3\\lib\\site-packages\\matplotlib\\axes\\_axes.py:6571: UserWarning: The 'normed' kwarg is deprecated, and has been replaced by the 'density' kwarg.\n",
      "  warnings.warn(\"The 'normed' kwarg is deprecated, and has been \"\n"
     ]
    },
    {
     "data": {
      "image/png": "[encoded data removed]",
      "text/plain": [
       "<Figure size 432x288 with 1 Axes>"
      ]
     },
     "metadata": {
      "needs_background": "light"
     },
     "output_type": "display_data"
    },
    {
     "data": {
      "image/png": "[encoded data removed]",
      "text/plain": [
       "<Figure size 432x288 with 1 Axes>"
      ]
     },
     "metadata": {
      "needs_background": "light"
     },
     "output_type": "display_data"
    }
   ],
   "source": [
    "noise = np.random.normal(0,1,1000000)\n",
    "\n",
    "plt.hist(noise, 100, normed=True)\n",
    "plt.show()\n",
    "\n",
    "plt.plot(np.random.randn(100))\n",
    "plt.show()"
   ]
  },
  {
   "cell_type": "markdown",
   "metadata": {},
   "source": [
    "## 4. AWGN vector channel\n",
    "\n",
    "The mathmatical model for the AWGN\n",
    "vector channel model is $$\\boldsymbol{r}=\\boldsymbol{s}+\\boldsymbol{n},$$\n",
    "where all vectors are $N$-dimentional vectors. The noise component $n_j,1\\leq j\\leq N$ obeys Gaussian distribution:\n",
    "\n",
    "$$p(n_j) = \\frac{1}{\\sqrt{ 2 \\pi \\sigma^2 }}e^{ - \\frac{ (n_j - \\mu)^2 } {2 \\sigma^2} },$$\n",
    "i.e., $$n_j\\sim\\mathcal N(\\mu,\\sigma).$$\n",
    "\n",
    "The signal is in the form of\n",
    "$$s =A\\text{sin}(\\omega_ct+\\theta),$$\n",
    "then, the power of signal is $$P_s=\\frac{1}{2}A^2.$$\n",
    "The power of noises is $$P_n=\\frac{1}{N}\\sum_{j=1}^{N}n_j^2$$\n",
    "\n",
    "The signal to niose ratio (SNR) is\n",
    "$$\\text{SNR}=\\frac{P_s}{P_n}=\\frac{1}{2}A^2\\big/\\frac{1}{N}\\sum_{j=1}^{N}n_j^2$$"
   ]
  },
  {
   "cell_type": "code",
   "execution_count": 32,
   "metadata": {},
   "outputs": [
    {
     "name": "stdout",
     "output_type": "stream",
     "text": [
      "[1, 2, 3]\n"
     ]
    }
   ],
   "source": [
    "x =[1,2,3]\n",
    "print(x[::1])"
   ]
  },
  {
   "cell_type": "code",
   "execution_count": null,
   "metadata": {},
   "outputs": [],
   "source": []
  }
 ],
 "metadata": {
  "kernelspec": {
   "display_name": "Python 3",
   "language": "python",
   "name": "python3"
  },
  "language_info": {
   "codemirror_mode": {
    "name": "ipython",
    "version": 3
   },
   "file_extension": ".py",
   "mimetype": "text/x-python",
   "name": "python",
   "nbconvert_exporter": "python",
   "pygments_lexer": "ipython3",
   "version": "3.7.0"
  }
 },
 "nbformat": 4,
 "nbformat_minor": 2
}
