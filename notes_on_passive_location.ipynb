{
 "cells": [
  {
   "cell_type": "markdown",
   "metadata": {},
   "source": [
    "# Notes on Passive Location\n",
    "Chan, Y. T., & Ho, K. C. (1994). A Simple and Efficient Estimator for Hyperbolic Location. IEEE Transactions on Signal Processing, 42(8), 1905–1915. https://doi.org/10.1109/78.301830"
   ]
  },
  {
   "cell_type": "markdown",
   "metadata": {},
   "source": [
    "## 1. 2-D Location Problem with arbitrary array manifold."
   ]
  },
  {
   "cell_type": "markdown",
   "metadata": {},
   "source": [
    "Assume $M$ sensors distributed arbitarily in a 2-D\n",
    "plane. The sampled observation at sensor $i$ is\n",
    "$$u_i(k)=s(k-d_i)+\\eta_i(k),\\quad i=1,\\cdots,M,$$\n",
    "where $s(k)$ is the signal radiating from the source, $d_i$ is the time delay associated with the receiver $i$ and $\\eta_i(k)$ is the additive noise."
   ]
  },
  {
   "cell_type": "markdown",
   "metadata": {},
   "source": [
    "The signal and noises are assumed to be mutually independent, zero mean stationary Gaussian random processes."
   ]
  },
  {
   "cell_type": "markdown",
   "metadata": {},
   "source": [
    "The time differences of arrival (TDOA) with respect to the first receiver are $$\\{d_{i,1}=d_i-d_1\\},i=2,\\cdots.M$$\n",
    "Further, the TODA between receiver $i$ and receiver $j$ is computed from \n",
    "$$d_{i,j}=d_{i,1}-d_{j,1},\\quad i,j=2,\\cdots M.$$\n",
    "Let $\\boldsymbol{d}=[d_{2,1},\\cdots,d_{M,1}]^\\top$ be the estimated TDOA vector. The covariance matrix $C$ of $\\boldsymbol{d}$ is given by\n",
    "$$Q=\\left\\{\\frac{2T}{2\\pi}\\int_{0}^{\\Omega}\\omega^2\\frac{S(\\omega)^2}{1+S(\\omega)\\text{tr}(N(\\omega)^{-1})}\\left[\\text{tr}(N(\\omega)^{-1})N_p(\\omega)^{-1}-N_p(\\omega)^{-1}\\boldsymbol{1}\\boldsymbol{1}^\\top N_p(\\omega)^{-1}\\right]d\\omega\\right\\}^{-1}$$\n",
    "where 0 to $\\Omega$ is the frequency band processed and $T$ is the observation time. $\\text{tr}(*)$ is the trace of matrix $*$. $S(\\omega)$ is the signal power spectrum, $N(\\omega)=\\text{diag}\\{N_1(\\omega),\\cdots,N_(\\omega)\\}$ is the noise power spectral matrix, $N_p(\\omega)$ is the lower right $M-1$ by $M-1$ partition of the matrix $N(\\omega)$, and $\\boldsymbol{1}$ is a vector of unity which has the same size of $N_p(\\omega)$."
   ]
  },
  {
   "cell_type": "markdown",
   "metadata": {},
   "source": []
  },
  {
   "cell_type": "markdown",
   "metadata": {},
   "source": []
  }
 ],
 "metadata": {
  "kernelspec": {
   "display_name": "Python 3",
   "language": "python",
   "name": "python3"
  },
  "language_info": {
   "codemirror_mode": {
    "name": "ipython",
    "version": 3
   },
   "file_extension": ".py",
   "mimetype": "text/x-python",
   "name": "python",
   "nbconvert_exporter": "python",
   "pygments_lexer": "ipython3",
   "version": "3.7.0"
  }
 },
 "nbformat": 4,
 "nbformat_minor": 2
}
